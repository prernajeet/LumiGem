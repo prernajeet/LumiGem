{
 "cells": [
  {
   "cell_type": "code",
   "execution_count": 1,
   "metadata": {
    "colab": {
     "base_uri": "https://localhost:8080/"
    },
    "id": "5x4KjZhsmnC6",
    "outputId": "114859ec-1626-430d-e717-8ec9bb0edf78"
   },
   "outputs": [
    {
     "name": "stderr",
     "output_type": "stream",
     "text": [
      "'apt-get' is not recognized as an internal or external command,\n",
      "operable program or batch file.\n",
      "'apt-get' is not recognized as an internal or external command,\n",
      "operable program or batch file.\n"
     ]
    }
   ],
   "source": [
    "!apt-get update\n",
    "!apt-get install -y portaudio19-dev python3-pyaudio"
   ]
  },
  {
   "cell_type": "code",
   "execution_count": 2,
   "metadata": {
    "colab": {
     "base_uri": "https://localhost:8080/",
     "height": 1000
    },
    "id": "I9LUmuXOmrBY",
    "outputId": "83f20d90-126d-41c5-bf55-506989809dc7"
   },
   "outputs": [
    {
     "name": "stdout",
     "output_type": "stream",
     "text": [
      "Requirement already satisfied: pip in c:\\users\\prern\\miniconda3\\lib\\site-packages (23.1.2)\n",
      "Collecting pip\n",
      "  Using cached pip-24.3.1-py3-none-any.whl (1.8 MB)\n"
     ]
    },
    {
     "name": "stderr",
     "output_type": "stream",
     "text": [
      "ERROR: To modify pip, please run the following command:\n",
      "C:\\Users\\prern\\miniconda3\\python.exe -m pip install --upgrade pip\n"
     ]
    },
    {
     "name": "stdout",
     "output_type": "stream",
     "text": [
      "Requirement already satisfied: gradio==4.19.2 in c:\\users\\prern\\miniconda3\\lib\\site-packages (4.19.2)\n",
      "Requirement already satisfied: aiofiles<24.0,>=22.0 in c:\\users\\prern\\miniconda3\\lib\\site-packages (from gradio==4.19.2) (23.2.1)\n",
      "Requirement already satisfied: altair<6.0,>=4.2.0 in c:\\users\\prern\\miniconda3\\lib\\site-packages (from gradio==4.19.2) (5.4.1)\n",
      "Requirement already satisfied: fastapi in c:\\users\\prern\\miniconda3\\lib\\site-packages (from gradio==4.19.2) (0.115.4)\n",
      "Requirement already satisfied: ffmpy in c:\\users\\prern\\miniconda3\\lib\\site-packages (from gradio==4.19.2) (0.4.0)\n",
      "Requirement already satisfied: gradio-client==0.10.1 in c:\\users\\prern\\miniconda3\\lib\\site-packages (from gradio==4.19.2) (0.10.1)\n",
      "Requirement already satisfied: httpx>=0.24.1 in c:\\users\\prern\\miniconda3\\lib\\site-packages (from gradio==4.19.2) (0.27.2)\n",
      "Requirement already satisfied: huggingface-hub>=0.19.3 in c:\\pythonpackages (from gradio==4.19.2) (0.26.2)\n",
      "Requirement already satisfied: importlib-resources<7.0,>=1.3 in c:\\users\\prern\\miniconda3\\lib\\site-packages (from gradio==4.19.2) (6.4.5)\n",
      "Requirement already satisfied: jinja2<4.0 in c:\\users\\prern\\miniconda3\\lib\\site-packages (from gradio==4.19.2) (3.1.4)\n",
      "Requirement already satisfied: markupsafe~=2.0 in c:\\users\\prern\\miniconda3\\lib\\site-packages (from gradio==4.19.2) (2.1.5)\n",
      "Requirement already satisfied: matplotlib~=3.0 in c:\\users\\prern\\miniconda3\\lib\\site-packages (from gradio==4.19.2) (3.9.2)\n",
      "Requirement already satisfied: numpy~=1.0 in c:\\users\\prern\\miniconda3\\lib\\site-packages (from gradio==4.19.2) (1.26.4)\n",
      "Requirement already satisfied: orjson~=3.0 in c:\\users\\prern\\miniconda3\\lib\\site-packages (from gradio==4.19.2) (3.10.11)\n",
      "Requirement already satisfied: packaging in c:\\pythonpackages (from gradio==4.19.2) (24.1)\n",
      "Requirement already satisfied: pandas<3.0,>=1.0 in c:\\users\\prern\\miniconda3\\lib\\site-packages (from gradio==4.19.2) (2.2.3)\n",
      "Requirement already satisfied: pillow<11.0,>=8.0 in c:\\users\\prern\\miniconda3\\lib\\site-packages (from gradio==4.19.2) (10.4.0)\n",
      "Requirement already satisfied: pydantic>=2.0 in c:\\users\\prern\\miniconda3\\lib\\site-packages (from gradio==4.19.2) (2.9.2)\n",
      "Requirement already satisfied: pydub in c:\\users\\prern\\miniconda3\\lib\\site-packages (from gradio==4.19.2) (0.25.1)\n",
      "Requirement already satisfied: python-multipart>=0.0.9 in c:\\users\\prern\\miniconda3\\lib\\site-packages (from gradio==4.19.2) (0.0.12)\n",
      "Requirement already satisfied: pyyaml<7.0,>=5.0 in c:\\pythonpackages (from gradio==4.19.2) (6.0.2)\n",
      "Requirement already satisfied: ruff>=0.2.2 in c:\\users\\prern\\miniconda3\\lib\\site-packages (from gradio==4.19.2) (0.7.2)\n",
      "Requirement already satisfied: semantic-version~=2.0 in c:\\users\\prern\\miniconda3\\lib\\site-packages (from gradio==4.19.2) (2.10.0)\n",
      "Requirement already satisfied: tomlkit==0.12.0 in c:\\users\\prern\\miniconda3\\lib\\site-packages (from gradio==4.19.2) (0.12.0)\n",
      "Requirement already satisfied: typer[all]<1.0,>=0.9 in c:\\users\\prern\\miniconda3\\lib\\site-packages (from gradio==4.19.2) (0.12.5)\n",
      "Requirement already satisfied: typing-extensions~=4.0 in c:\\pythonpackages (from gradio==4.19.2) (4.12.2)\n",
      "Requirement already satisfied: uvicorn>=0.14.0 in c:\\users\\prern\\miniconda3\\lib\\site-packages (from gradio==4.19.2) (0.32.0)\n",
      "Requirement already satisfied: fsspec in c:\\pythonpackages (from gradio-client==0.10.1->gradio==4.19.2) (2024.10.0)\n",
      "Requirement already satisfied: websockets<12.0,>=10.0 in c:\\users\\prern\\miniconda3\\lib\\site-packages (from gradio-client==0.10.1->gradio==4.19.2) (11.0.3)\n",
      "Requirement already satisfied: jsonschema>=3.0 in c:\\users\\prern\\miniconda3\\lib\\site-packages (from altair<6.0,>=4.2.0->gradio==4.19.2) (4.23.0)\n",
      "Requirement already satisfied: narwhals>=1.5.2 in c:\\users\\prern\\miniconda3\\lib\\site-packages (from altair<6.0,>=4.2.0->gradio==4.19.2) (1.12.1)\n",
      "Requirement already satisfied: anyio in c:\\users\\prern\\miniconda3\\lib\\site-packages (from httpx>=0.24.1->gradio==4.19.2) (4.6.2.post1)\n",
      "Requirement already satisfied: certifi in c:\\pythonpackages (from httpx>=0.24.1->gradio==4.19.2) (2024.8.30)\n",
      "Requirement already satisfied: httpcore==1.* in c:\\users\\prern\\miniconda3\\lib\\site-packages (from httpx>=0.24.1->gradio==4.19.2) (1.0.6)\n",
      "Requirement already satisfied: idna in c:\\pythonpackages (from httpx>=0.24.1->gradio==4.19.2) (3.10)\n",
      "Requirement already satisfied: sniffio in c:\\users\\prern\\miniconda3\\lib\\site-packages (from httpx>=0.24.1->gradio==4.19.2) (1.3.1)\n",
      "Requirement already satisfied: h11<0.15,>=0.13 in c:\\users\\prern\\miniconda3\\lib\\site-packages (from httpcore==1.*->httpx>=0.24.1->gradio==4.19.2) (0.14.0)\n",
      "Requirement already satisfied: filelock in c:\\pythonpackages (from huggingface-hub>=0.19.3->gradio==4.19.2) (3.16.1)\n",
      "Requirement already satisfied: requests in c:\\pythonpackages (from huggingface-hub>=0.19.3->gradio==4.19.2) (2.32.3)\n",
      "Requirement already satisfied: tqdm>=4.42.1 in c:\\pythonpackages (from huggingface-hub>=0.19.3->gradio==4.19.2) (4.66.6)\n",
      "Requirement already satisfied: contourpy>=1.0.1 in c:\\users\\prern\\miniconda3\\lib\\site-packages (from matplotlib~=3.0->gradio==4.19.2) (1.3.0)\n",
      "Requirement already satisfied: cycler>=0.10 in c:\\users\\prern\\miniconda3\\lib\\site-packages (from matplotlib~=3.0->gradio==4.19.2) (0.12.1)\n",
      "Requirement already satisfied: fonttools>=4.22.0 in c:\\users\\prern\\miniconda3\\lib\\site-packages (from matplotlib~=3.0->gradio==4.19.2) (4.54.1)\n",
      "Requirement already satisfied: kiwisolver>=1.3.1 in c:\\users\\prern\\miniconda3\\lib\\site-packages (from matplotlib~=3.0->gradio==4.19.2) (1.4.7)\n",
      "Requirement already satisfied: pyparsing>=2.3.1 in c:\\users\\prern\\miniconda3\\lib\\site-packages (from matplotlib~=3.0->gradio==4.19.2) (3.2.0)\n",
      "Requirement already satisfied: python-dateutil>=2.7 in c:\\users\\prern\\miniconda3\\lib\\site-packages (from matplotlib~=3.0->gradio==4.19.2) (2.9.0)\n",
      "Requirement already satisfied: pytz>=2020.1 in c:\\users\\prern\\miniconda3\\lib\\site-packages (from pandas<3.0,>=1.0->gradio==4.19.2) (2024.2)\n",
      "Requirement already satisfied: tzdata>=2022.7 in c:\\users\\prern\\miniconda3\\lib\\site-packages (from pandas<3.0,>=1.0->gradio==4.19.2) (2024.2)\n",
      "Requirement already satisfied: annotated-types>=0.6.0 in c:\\users\\prern\\miniconda3\\lib\\site-packages (from pydantic>=2.0->gradio==4.19.2) (0.7.0)\n",
      "Requirement already satisfied: pydantic-core==2.23.4 in c:\\users\\prern\\miniconda3\\lib\\site-packages (from pydantic>=2.0->gradio==4.19.2) (2.23.4)\n",
      "Requirement already satisfied: click>=8.0.0 in c:\\users\\prern\\miniconda3\\lib\\site-packages (from typer[all]<1.0,>=0.9->gradio==4.19.2) (8.1.7)\n",
      "Requirement already satisfied: shellingham>=1.3.0 in c:\\users\\prern\\miniconda3\\lib\\site-packages (from typer[all]<1.0,>=0.9->gradio==4.19.2) (1.5.4)\n",
      "Requirement already satisfied: rich>=10.11.0 in c:\\users\\prern\\miniconda3\\lib\\site-packages (from typer[all]<1.0,>=0.9->gradio==4.19.2) (13.9.4)\n",
      "Requirement already satisfied: starlette<0.42.0,>=0.40.0 in c:\\users\\prern\\miniconda3\\lib\\site-packages (from fastapi->gradio==4.19.2) (0.41.2)\n",
      "Requirement already satisfied: colorama in c:\\pythonpackages (from click>=8.0.0->typer[all]<1.0,>=0.9->gradio==4.19.2) (0.4.6)\n",
      "Requirement already satisfied: attrs>=22.2.0 in c:\\users\\prern\\miniconda3\\lib\\site-packages (from jsonschema>=3.0->altair<6.0,>=4.2.0->gradio==4.19.2) (24.2.0)\n",
      "Requirement already satisfied: jsonschema-specifications>=2023.03.6 in c:\\users\\prern\\miniconda3\\lib\\site-packages (from jsonschema>=3.0->altair<6.0,>=4.2.0->gradio==4.19.2) (2024.10.1)\n",
      "Requirement already satisfied: referencing>=0.28.4 in c:\\users\\prern\\miniconda3\\lib\\site-packages (from jsonschema>=3.0->altair<6.0,>=4.2.0->gradio==4.19.2) (0.35.1)\n",
      "Requirement already satisfied: rpds-py>=0.7.1 in c:\\users\\prern\\miniconda3\\lib\\site-packages (from jsonschema>=3.0->altair<6.0,>=4.2.0->gradio==4.19.2) (0.20.1)\n",
      "Requirement already satisfied: six>=1.5 in c:\\users\\prern\\miniconda3\\lib\\site-packages (from python-dateutil>=2.7->matplotlib~=3.0->gradio==4.19.2) (1.16.0)\n",
      "Requirement already satisfied: markdown-it-py>=2.2.0 in c:\\users\\prern\\miniconda3\\lib\\site-packages (from rich>=10.11.0->typer[all]<1.0,>=0.9->gradio==4.19.2) (3.0.0)\n",
      "Requirement already satisfied: pygments<3.0.0,>=2.13.0 in c:\\users\\prern\\miniconda3\\lib\\site-packages (from rich>=10.11.0->typer[all]<1.0,>=0.9->gradio==4.19.2) (2.18.0)\n",
      "Requirement already satisfied: charset-normalizer<4,>=2 in c:\\pythonpackages (from requests->huggingface-hub>=0.19.3->gradio==4.19.2) (3.4.0)\n",
      "Requirement already satisfied: urllib3<3,>=1.21.1 in c:\\pythonpackages (from requests->huggingface-hub>=0.19.3->gradio==4.19.2) (2.2.3)\n",
      "Requirement already satisfied: mdurl~=0.1 in c:\\users\\prern\\miniconda3\\lib\\site-packages (from markdown-it-py>=2.2.0->rich>=10.11.0->typer[all]<1.0,>=0.9->gradio==4.19.2) (0.1.2)\n"
     ]
    },
    {
     "name": "stderr",
     "output_type": "stream",
     "text": [
      "WARNING: typer 0.12.5 does not provide the extra 'all'\n"
     ]
    },
    {
     "name": "stdout",
     "output_type": "stream",
     "text": [
      "Requirement already satisfied: google-generativeai==0.3.2 in c:\\users\\prern\\miniconda3\\lib\\site-packages (0.3.2)\n",
      "Requirement already satisfied: google-ai-generativelanguage==0.4.0 in c:\\users\\prern\\miniconda3\\lib\\site-packages (from google-generativeai==0.3.2) (0.4.0)\n",
      "Requirement already satisfied: google-auth in c:\\users\\prern\\miniconda3\\lib\\site-packages (from google-generativeai==0.3.2) (2.35.0)\n",
      "Requirement already satisfied: google-api-core in c:\\users\\prern\\miniconda3\\lib\\site-packages (from google-generativeai==0.3.2) (2.22.0)\n",
      "Requirement already satisfied: typing-extensions in c:\\pythonpackages (from google-generativeai==0.3.2) (4.12.2)\n",
      "Requirement already satisfied: protobuf in c:\\users\\prern\\miniconda3\\lib\\site-packages (from google-generativeai==0.3.2) (4.25.5)\n",
      "Requirement already satisfied: tqdm in c:\\pythonpackages (from google-generativeai==0.3.2) (4.66.6)\n",
      "Requirement already satisfied: proto-plus<2.0.0dev,>=1.22.3 in c:\\users\\prern\\miniconda3\\lib\\site-packages (from google-ai-generativelanguage==0.4.0->google-generativeai==0.3.2) (1.25.0)\n",
      "Requirement already satisfied: googleapis-common-protos<2.0.dev0,>=1.56.2 in c:\\users\\prern\\miniconda3\\lib\\site-packages (from google-api-core->google-generativeai==0.3.2) (1.65.0)\n",
      "Requirement already satisfied: requests<3.0.0.dev0,>=2.18.0 in c:\\pythonpackages (from google-api-core->google-generativeai==0.3.2) (2.32.3)\n",
      "Requirement already satisfied: cachetools<6.0,>=2.0.0 in c:\\users\\prern\\miniconda3\\lib\\site-packages (from google-auth->google-generativeai==0.3.2) (5.5.0)\n",
      "Requirement already satisfied: pyasn1-modules>=0.2.1 in c:\\users\\prern\\miniconda3\\lib\\site-packages (from google-auth->google-generativeai==0.3.2) (0.4.1)\n",
      "Requirement already satisfied: rsa<5,>=3.1.4 in c:\\users\\prern\\miniconda3\\lib\\site-packages (from google-auth->google-generativeai==0.3.2) (4.9)\n",
      "Requirement already satisfied: colorama in c:\\pythonpackages (from tqdm->google-generativeai==0.3.2) (0.4.6)\n",
      "Requirement already satisfied: grpcio<2.0dev,>=1.33.2 in c:\\users\\prern\\miniconda3\\lib\\site-packages (from google-api-core->google-generativeai==0.3.2) (1.67.1)\n",
      "Requirement already satisfied: grpcio-status<2.0.dev0,>=1.33.2 in c:\\users\\prern\\miniconda3\\lib\\site-packages (from google-api-core->google-generativeai==0.3.2) (1.62.3)\n",
      "Requirement already satisfied: pyasn1<0.7.0,>=0.4.6 in c:\\users\\prern\\miniconda3\\lib\\site-packages (from pyasn1-modules>=0.2.1->google-auth->google-generativeai==0.3.2) (0.6.1)\n",
      "Requirement already satisfied: charset-normalizer<4,>=2 in c:\\pythonpackages (from requests<3.0.0.dev0,>=2.18.0->google-api-core->google-generativeai==0.3.2) (3.4.0)\n",
      "Requirement already satisfied: idna<4,>=2.5 in c:\\pythonpackages (from requests<3.0.0.dev0,>=2.18.0->google-api-core->google-generativeai==0.3.2) (3.10)\n",
      "Requirement already satisfied: urllib3<3,>=1.21.1 in c:\\pythonpackages (from requests<3.0.0.dev0,>=2.18.0->google-api-core->google-generativeai==0.3.2) (2.2.3)\n",
      "Requirement already satisfied: certifi>=2017.4.17 in c:\\pythonpackages (from requests<3.0.0.dev0,>=2.18.0->google-api-core->google-generativeai==0.3.2) (2024.8.30)\n",
      "Requirement already satisfied: gTTS==2.5.1 in c:\\users\\prern\\miniconda3\\lib\\site-packages (2.5.1)\n",
      "Requirement already satisfied: requests<3,>=2.27 in c:\\pythonpackages (from gTTS==2.5.1) (2.32.3)\n",
      "Requirement already satisfied: click<8.2,>=7.1 in c:\\users\\prern\\miniconda3\\lib\\site-packages (from gTTS==2.5.1) (8.1.7)\n",
      "Requirement already satisfied: colorama in c:\\pythonpackages (from click<8.2,>=7.1->gTTS==2.5.1) (0.4.6)\n",
      "Requirement already satisfied: charset-normalizer<4,>=2 in c:\\pythonpackages (from requests<3,>=2.27->gTTS==2.5.1) (3.4.0)\n",
      "Requirement already satisfied: idna<4,>=2.5 in c:\\pythonpackages (from requests<3,>=2.27->gTTS==2.5.1) (3.10)\n",
      "Requirement already satisfied: urllib3<3,>=1.21.1 in c:\\pythonpackages (from requests<3,>=2.27->gTTS==2.5.1) (2.2.3)\n",
      "Requirement already satisfied: certifi>=2017.4.17 in c:\\pythonpackages (from requests<3,>=2.27->gTTS==2.5.1) (2024.8.30)\n",
      "Requirement already satisfied: sounddevice==0.4.6 in c:\\users\\prern\\miniconda3\\lib\\site-packages (0.4.6)\n",
      "Requirement already satisfied: CFFI>=1.0 in c:\\users\\prern\\miniconda3\\lib\\site-packages (from sounddevice==0.4.6) (1.15.1)\n",
      "Requirement already satisfied: pycparser in c:\\users\\prern\\miniconda3\\lib\\site-packages (from CFFI>=1.0->sounddevice==0.4.6) (2.21)\n",
      "Requirement already satisfied: scipy==1.12.0 in c:\\users\\prern\\miniconda3\\lib\\site-packages (1.12.0)\n",
      "Requirement already satisfied: numpy<1.29.0,>=1.22.4 in c:\\users\\prern\\miniconda3\\lib\\site-packages (from scipy==1.12.0) (1.26.4)\n",
      "Requirement already satisfied: SpeechRecognition==3.10.1 in c:\\users\\prern\\miniconda3\\lib\\site-packages (3.10.1)\n",
      "Requirement already satisfied: requests>=2.26.0 in c:\\pythonpackages (from SpeechRecognition==3.10.1) (2.32.3)\n",
      "Requirement already satisfied: typing-extensions in c:\\pythonpackages (from SpeechRecognition==3.10.1) (4.12.2)\n",
      "Requirement already satisfied: charset-normalizer<4,>=2 in c:\\pythonpackages (from requests>=2.26.0->SpeechRecognition==3.10.1) (3.4.0)\n",
      "Requirement already satisfied: idna<4,>=2.5 in c:\\pythonpackages (from requests>=2.26.0->SpeechRecognition==3.10.1) (3.10)\n",
      "Requirement already satisfied: urllib3<3,>=1.21.1 in c:\\pythonpackages (from requests>=2.26.0->SpeechRecognition==3.10.1) (2.2.3)\n",
      "Requirement already satisfied: certifi>=2017.4.17 in c:\\pythonpackages (from requests>=2.26.0->SpeechRecognition==3.10.1) (2024.8.30)\n",
      "Requirement already satisfied: numpy==1.26.4 in c:\\users\\prern\\miniconda3\\lib\\site-packages (1.26.4)\n",
      "Requirement already satisfied: watchdog==4.0.0 in c:\\users\\prern\\miniconda3\\lib\\site-packages (4.0.0)\n",
      "Requirement already satisfied: pyaudio==0.2.13 in c:\\users\\prern\\miniconda3\\lib\\site-packages (0.2.13)\n"
     ]
    }
   ],
   "source": [
    "!pip install --upgrade pip\n",
    "!pip install gradio==4.19.2\n",
    "!pip install google-generativeai==0.3.2\n",
    "!pip install gTTS==2.5.1\n",
    "!pip install sounddevice==0.4.6\n",
    "!pip install scipy==1.12.0\n",
    "!pip install SpeechRecognition==3.10.1\n",
    "!pip install numpy==1.26.4\n",
    "!pip install watchdog==4.0.0\n",
    "!pip install pyaudio==0.2.13"
   ]
  },
  {
   "cell_type": "code",
   "execution_count": 3,
   "metadata": {
    "colab": {
     "base_uri": "https://localhost:8080/"
    },
    "id": "yLEuczwMmrE1",
    "outputId": "a6ad6b41-b388-42c7-b726-7d9c7de6d135"
   },
   "outputs": [
    {
     "name": "stderr",
     "output_type": "stream",
     "text": [
      "'apt-get' is not recognized as an internal or external command,\n",
      "operable program or batch file.\n"
     ]
    },
    {
     "name": "stdout",
     "output_type": "stream",
     "text": [
      "Found existing installation: PyAudio 0.2.13\n",
      "Uninstalling PyAudio-0.2.13:\n",
      "  Successfully uninstalled PyAudio-0.2.13\n"
     ]
    }
   ],
   "source": [
    "!apt-get remove python3-pyaudio\n",
    "!pip uninstall -y pyaudio"
   ]
  },
  {
   "cell_type": "code",
   "execution_count": 4,
   "metadata": {
    "colab": {
     "base_uri": "https://localhost:8080/"
    },
    "id": "nl8JF9L4mrKe",
    "outputId": "7433ad40-f6d6-44bb-b048-733167a1a4d1"
   },
   "outputs": [
    {
     "name": "stderr",
     "output_type": "stream",
     "text": [
      "'apt-get' is not recognized as an internal or external command,\n",
      "operable program or batch file.\n"
     ]
    }
   ],
   "source": [
    "!apt-get update && apt-get install -y portaudio19-dev"
   ]
  },
  {
   "cell_type": "code",
   "execution_count": 5,
   "metadata": {},
   "outputs": [
    {
     "name": "stdout",
     "output_type": "stream",
     "text": [
      "Requirement already satisfied: gradio in c:\\users\\prern\\anaconda3\\lib\\site-packages (5.4.0)\n",
      "Requirement already satisfied: aiofiles<24.0,>=22.0 in c:\\users\\prern\\anaconda3\\lib\\site-packages (from gradio) (22.1.0)\n",
      "Requirement already satisfied: anyio<5.0,>=3.0 in c:\\users\\prern\\anaconda3\\lib\\site-packages (from gradio) (3.5.0)\n",
      "Requirement already satisfied: fastapi<1.0,>=0.115.2 in c:\\users\\prern\\anaconda3\\lib\\site-packages (from gradio) (0.115.4)\n",
      "Requirement already satisfied: ffmpy in c:\\users\\prern\\anaconda3\\lib\\site-packages (from gradio) (0.4.0)\n",
      "Requirement already satisfied: gradio-client==1.4.2 in c:\\users\\prern\\anaconda3\\lib\\site-packages (from gradio) (1.4.2)\n",
      "Requirement already satisfied: httpx>=0.24.1 in c:\\users\\prern\\anaconda3\\lib\\site-packages (from gradio) (0.27.0)\n",
      "Requirement already satisfied: huggingface-hub>=0.25.1 in c:\\pythonpackages (from gradio) (0.26.2)\n",
      "Requirement already satisfied: jinja2<4.0 in c:\\users\\prern\\anaconda3\\lib\\site-packages (from gradio) (3.1.2)\n",
      "Requirement already satisfied: markupsafe~=2.0 in c:\\users\\prern\\anaconda3\\lib\\site-packages (from gradio) (2.1.1)\n",
      "Requirement already satisfied: numpy<3.0,>=1.0 in c:\\users\\prern\\anaconda3\\lib\\site-packages (from gradio) (1.24.3)\n",
      "Requirement already satisfied: orjson~=3.0 in c:\\users\\prern\\anaconda3\\lib\\site-packages (from gradio) (3.10.10)\n",
      "Requirement already satisfied: packaging in c:\\pythonpackages (from gradio) (24.1)\n",
      "Requirement already satisfied: pandas<3.0,>=1.0 in c:\\users\\prern\\anaconda3\\lib\\site-packages (from gradio) (2.0.3)\n",
      "Requirement already satisfied: pillow<12.0,>=8.0 in c:\\users\\prern\\anaconda3\\lib\\site-packages (from gradio) (10.3.0)\n",
      "Requirement already satisfied: pydantic>=2.0 in c:\\users\\prern\\anaconda3\\lib\\site-packages (from gradio) (2.9.2)\n",
      "Requirement already satisfied: pydub in c:\\users\\prern\\anaconda3\\lib\\site-packages (from gradio) (0.25.1)\n",
      "Requirement already satisfied: python-multipart==0.0.12 in c:\\users\\prern\\anaconda3\\lib\\site-packages (from gradio) (0.0.12)\n",
      "Requirement already satisfied: pyyaml<7.0,>=5.0 in c:\\pythonpackages (from gradio) (6.0.2)\n",
      "Requirement already satisfied: ruff>=0.2.2 in c:\\users\\prern\\anaconda3\\lib\\site-packages (from gradio) (0.7.2)\n",
      "Requirement already satisfied: safehttpx<1.0,>=0.1.1 in c:\\users\\prern\\anaconda3\\lib\\site-packages (from gradio) (0.1.1)\n",
      "Requirement already satisfied: semantic-version~=2.0 in c:\\users\\prern\\anaconda3\\lib\\site-packages (from gradio) (2.10.0)\n",
      "Requirement already satisfied: starlette<1.0,>=0.40.0 in c:\\users\\prern\\anaconda3\\lib\\site-packages (from gradio) (0.41.2)\n",
      "Requirement already satisfied: tomlkit==0.12.0 in c:\\users\\prern\\anaconda3\\lib\\site-packages (from gradio) (0.12.0)\n",
      "Requirement already satisfied: typer<1.0,>=0.12 in c:\\users\\prern\\anaconda3\\lib\\site-packages (from gradio) (0.12.5)\n",
      "Requirement already satisfied: typing-extensions~=4.0 in c:\\pythonpackages (from gradio) (4.12.2)\n",
      "Requirement already satisfied: uvicorn>=0.14.0 in c:\\users\\prern\\anaconda3\\lib\\site-packages (from gradio) (0.32.0)\n",
      "Requirement already satisfied: fsspec in c:\\pythonpackages (from gradio-client==1.4.2->gradio) (2024.10.0)\n",
      "Requirement already satisfied: websockets<13.0,>=10.0 in c:\\users\\prern\\anaconda3\\lib\\site-packages (from gradio-client==1.4.2->gradio) (12.0)\n",
      "Requirement already satisfied: idna>=2.8 in c:\\pythonpackages (from anyio<5.0,>=3.0->gradio) (3.10)\n",
      "Requirement already satisfied: sniffio>=1.1 in c:\\users\\prern\\anaconda3\\lib\\site-packages (from anyio<5.0,>=3.0->gradio) (1.2.0)\n",
      "Requirement already satisfied: certifi in c:\\pythonpackages (from httpx>=0.24.1->gradio) (2024.8.30)\n",
      "Requirement already satisfied: httpcore==1.* in c:\\users\\prern\\anaconda3\\lib\\site-packages (from httpx>=0.24.1->gradio) (1.0.2)\n",
      "Requirement already satisfied: h11<0.15,>=0.13 in c:\\users\\prern\\anaconda3\\lib\\site-packages (from httpcore==1.*->httpx>=0.24.1->gradio) (0.14.0)\n",
      "Requirement already satisfied: filelock in c:\\pythonpackages (from huggingface-hub>=0.25.1->gradio) (3.16.1)\n",
      "Requirement already satisfied: requests in c:\\pythonpackages (from huggingface-hub>=0.25.1->gradio) (2.32.3)\n",
      "Requirement already satisfied: tqdm>=4.42.1 in c:\\pythonpackages (from huggingface-hub>=0.25.1->gradio) (4.66.6)\n",
      "Requirement already satisfied: python-dateutil>=2.8.2 in c:\\users\\prern\\anaconda3\\lib\\site-packages (from pandas<3.0,>=1.0->gradio) (2.8.2)\n",
      "Requirement already satisfied: pytz>=2020.1 in c:\\users\\prern\\anaconda3\\lib\\site-packages (from pandas<3.0,>=1.0->gradio) (2023.3.post1)\n",
      "Requirement already satisfied: tzdata>=2022.1 in c:\\users\\prern\\anaconda3\\lib\\site-packages (from pandas<3.0,>=1.0->gradio) (2023.3)\n",
      "Requirement already satisfied: annotated-types>=0.6.0 in c:\\users\\prern\\anaconda3\\lib\\site-packages (from pydantic>=2.0->gradio) (0.7.0)\n",
      "Requirement already satisfied: pydantic-core==2.23.4 in c:\\users\\prern\\anaconda3\\lib\\site-packages (from pydantic>=2.0->gradio) (2.23.4)\n",
      "Requirement already satisfied: click>=8.0.0 in c:\\users\\prern\\anaconda3\\lib\\site-packages (from typer<1.0,>=0.12->gradio) (8.1.7)\n",
      "Requirement already satisfied: shellingham>=1.3.0 in c:\\users\\prern\\anaconda3\\lib\\site-packages (from typer<1.0,>=0.12->gradio) (1.5.4)\n",
      "Requirement already satisfied: rich>=10.11.0 in c:\\users\\prern\\anaconda3\\lib\\site-packages (from typer<1.0,>=0.12->gradio) (13.8.1)\n",
      "Requirement already satisfied: colorama in c:\\pythonpackages (from click>=8.0.0->typer<1.0,>=0.12->gradio) (0.4.6)\n",
      "Requirement already satisfied: six>=1.5 in c:\\users\\prern\\anaconda3\\lib\\site-packages (from python-dateutil>=2.8.2->pandas<3.0,>=1.0->gradio) (1.16.0)\n",
      "Requirement already satisfied: markdown-it-py>=2.2.0 in c:\\users\\prern\\anaconda3\\lib\\site-packages (from rich>=10.11.0->typer<1.0,>=0.12->gradio) (2.2.0)\n",
      "Requirement already satisfied: pygments<3.0.0,>=2.13.0 in c:\\users\\prern\\anaconda3\\lib\\site-packages (from rich>=10.11.0->typer<1.0,>=0.12->gradio) (2.15.1)\n",
      "Requirement already satisfied: charset-normalizer<4,>=2 in c:\\pythonpackages (from requests->huggingface-hub>=0.25.1->gradio) (3.4.0)\n",
      "Requirement already satisfied: urllib3<3,>=1.21.1 in c:\\pythonpackages (from requests->huggingface-hub>=0.25.1->gradio) (2.2.3)\n",
      "Requirement already satisfied: mdurl~=0.1 in c:\\users\\prern\\anaconda3\\lib\\site-packages (from markdown-it-py>=2.2.0->rich>=10.11.0->typer<1.0,>=0.12->gradio) (0.1.0)\n",
      "Note: you may need to restart the kernel to use updated packages.\n"
     ]
    }
   ],
   "source": [
    "pip install gradio"
   ]
  },
  {
   "cell_type": "code",
   "execution_count": 6,
   "metadata": {
    "colab": {
     "base_uri": "https://localhost:8080/"
    },
    "id": "gMGJRcMnoPJ2",
    "outputId": "6c4e883d-ab34-4fda-fc84-20e32cda4dab"
   },
   "outputs": [
    {
     "name": "stdout",
     "output_type": "stream",
     "text": [
      "Collecting pyaudio==0.2.13\n",
      "  Using cached PyAudio-0.2.13-cp311-cp311-win_amd64.whl (164 kB)\n",
      "Installing collected packages: pyaudio\n",
      "Successfully installed pyaudio-0.2.13\n"
     ]
    }
   ],
   "source": [
    "!pip install pyaudio==0.2.13"
   ]
  },
  {
   "cell_type": "code",
   "execution_count": 7,
   "metadata": {
    "colab": {
     "base_uri": "https://localhost:8080/"
    },
    "id": "Bht-S2q7oPMn",
    "outputId": "da6682cf-5dfd-448d-a436-f0e944d54969"
   },
   "outputs": [
    {
     "name": "stdout",
     "output_type": "stream",
     "text": [
      "Requirement already satisfied: gradio==4.19.2 in c:\\users\\prern\\miniconda3\\lib\\site-packages (4.19.2)\n",
      "Requirement already satisfied: aiofiles<24.0,>=22.0 in c:\\users\\prern\\miniconda3\\lib\\site-packages (from gradio==4.19.2) (23.2.1)\n",
      "Requirement already satisfied: altair<6.0,>=4.2.0 in c:\\users\\prern\\miniconda3\\lib\\site-packages (from gradio==4.19.2) (5.4.1)\n",
      "Requirement already satisfied: fastapi in c:\\users\\prern\\miniconda3\\lib\\site-packages (from gradio==4.19.2) (0.115.4)\n",
      "Requirement already satisfied: ffmpy in c:\\users\\prern\\miniconda3\\lib\\site-packages (from gradio==4.19.2) (0.4.0)\n",
      "Requirement already satisfied: gradio-client==0.10.1 in c:\\users\\prern\\miniconda3\\lib\\site-packages (from gradio==4.19.2) (0.10.1)\n",
      "Requirement already satisfied: httpx>=0.24.1 in c:\\users\\prern\\miniconda3\\lib\\site-packages (from gradio==4.19.2) (0.27.2)\n",
      "Requirement already satisfied: huggingface-hub>=0.19.3 in c:\\pythonpackages (from gradio==4.19.2) (0.26.2)\n",
      "Requirement already satisfied: importlib-resources<7.0,>=1.3 in c:\\users\\prern\\miniconda3\\lib\\site-packages (from gradio==4.19.2) (6.4.5)\n",
      "Requirement already satisfied: jinja2<4.0 in c:\\users\\prern\\miniconda3\\lib\\site-packages (from gradio==4.19.2) (3.1.4)\n",
      "Requirement already satisfied: markupsafe~=2.0 in c:\\users\\prern\\miniconda3\\lib\\site-packages (from gradio==4.19.2) (2.1.5)\n",
      "Requirement already satisfied: matplotlib~=3.0 in c:\\users\\prern\\miniconda3\\lib\\site-packages (from gradio==4.19.2) (3.9.2)\n",
      "Requirement already satisfied: numpy~=1.0 in c:\\users\\prern\\miniconda3\\lib\\site-packages (from gradio==4.19.2) (1.26.4)\n",
      "Requirement already satisfied: orjson~=3.0 in c:\\users\\prern\\miniconda3\\lib\\site-packages (from gradio==4.19.2) (3.10.11)\n",
      "Requirement already satisfied: packaging in c:\\pythonpackages (from gradio==4.19.2) (24.1)\n",
      "Requirement already satisfied: pandas<3.0,>=1.0 in c:\\users\\prern\\miniconda3\\lib\\site-packages (from gradio==4.19.2) (2.2.3)\n",
      "Requirement already satisfied: pillow<11.0,>=8.0 in c:\\users\\prern\\miniconda3\\lib\\site-packages (from gradio==4.19.2) (10.4.0)\n",
      "Requirement already satisfied: pydantic>=2.0 in c:\\users\\prern\\miniconda3\\lib\\site-packages (from gradio==4.19.2) (2.9.2)\n",
      "Requirement already satisfied: pydub in c:\\users\\prern\\miniconda3\\lib\\site-packages (from gradio==4.19.2) (0.25.1)\n",
      "Requirement already satisfied: python-multipart>=0.0.9 in c:\\users\\prern\\miniconda3\\lib\\site-packages (from gradio==4.19.2) (0.0.12)\n",
      "Requirement already satisfied: pyyaml<7.0,>=5.0 in c:\\pythonpackages (from gradio==4.19.2) (6.0.2)\n",
      "Requirement already satisfied: ruff>=0.2.2 in c:\\users\\prern\\miniconda3\\lib\\site-packages (from gradio==4.19.2) (0.7.2)\n",
      "Requirement already satisfied: semantic-version~=2.0 in c:\\users\\prern\\miniconda3\\lib\\site-packages (from gradio==4.19.2) (2.10.0)\n",
      "Requirement already satisfied: tomlkit==0.12.0 in c:\\users\\prern\\miniconda3\\lib\\site-packages (from gradio==4.19.2) (0.12.0)\n",
      "Requirement already satisfied: typer[all]<1.0,>=0.9 in c:\\users\\prern\\miniconda3\\lib\\site-packages (from gradio==4.19.2) (0.12.5)\n",
      "Requirement already satisfied: typing-extensions~=4.0 in c:\\pythonpackages (from gradio==4.19.2) (4.12.2)\n",
      "Requirement already satisfied: uvicorn>=0.14.0 in c:\\users\\prern\\miniconda3\\lib\\site-packages (from gradio==4.19.2) (0.32.0)\n",
      "Requirement already satisfied: fsspec in c:\\pythonpackages (from gradio-client==0.10.1->gradio==4.19.2) (2024.10.0)\n",
      "Requirement already satisfied: websockets<12.0,>=10.0 in c:\\users\\prern\\miniconda3\\lib\\site-packages (from gradio-client==0.10.1->gradio==4.19.2) (11.0.3)\n",
      "Requirement already satisfied: jsonschema>=3.0 in c:\\users\\prern\\miniconda3\\lib\\site-packages (from altair<6.0,>=4.2.0->gradio==4.19.2) (4.23.0)\n",
      "Requirement already satisfied: narwhals>=1.5.2 in c:\\users\\prern\\miniconda3\\lib\\site-packages (from altair<6.0,>=4.2.0->gradio==4.19.2) (1.12.1)\n",
      "Requirement already satisfied: anyio in c:\\users\\prern\\miniconda3\\lib\\site-packages (from httpx>=0.24.1->gradio==4.19.2) (4.6.2.post1)\n",
      "Requirement already satisfied: certifi in c:\\pythonpackages (from httpx>=0.24.1->gradio==4.19.2) (2024.8.30)\n",
      "Requirement already satisfied: httpcore==1.* in c:\\users\\prern\\miniconda3\\lib\\site-packages (from httpx>=0.24.1->gradio==4.19.2) (1.0.6)\n",
      "Requirement already satisfied: idna in c:\\pythonpackages (from httpx>=0.24.1->gradio==4.19.2) (3.10)\n",
      "Requirement already satisfied: sniffio in c:\\users\\prern\\miniconda3\\lib\\site-packages (from httpx>=0.24.1->gradio==4.19.2) (1.3.1)\n",
      "Requirement already satisfied: h11<0.15,>=0.13 in c:\\users\\prern\\miniconda3\\lib\\site-packages (from httpcore==1.*->httpx>=0.24.1->gradio==4.19.2) (0.14.0)\n",
      "Requirement already satisfied: filelock in c:\\pythonpackages (from huggingface-hub>=0.19.3->gradio==4.19.2) (3.16.1)\n",
      "Requirement already satisfied: requests in c:\\pythonpackages (from huggingface-hub>=0.19.3->gradio==4.19.2) (2.32.3)\n",
      "Requirement already satisfied: tqdm>=4.42.1 in c:\\pythonpackages (from huggingface-hub>=0.19.3->gradio==4.19.2) (4.66.6)\n",
      "Requirement already satisfied: contourpy>=1.0.1 in c:\\users\\prern\\miniconda3\\lib\\site-packages (from matplotlib~=3.0->gradio==4.19.2) (1.3.0)\n",
      "Requirement already satisfied: cycler>=0.10 in c:\\users\\prern\\miniconda3\\lib\\site-packages (from matplotlib~=3.0->gradio==4.19.2) (0.12.1)\n",
      "Requirement already satisfied: fonttools>=4.22.0 in c:\\users\\prern\\miniconda3\\lib\\site-packages (from matplotlib~=3.0->gradio==4.19.2) (4.54.1)\n",
      "Requirement already satisfied: kiwisolver>=1.3.1 in c:\\users\\prern\\miniconda3\\lib\\site-packages (from matplotlib~=3.0->gradio==4.19.2) (1.4.7)\n",
      "Requirement already satisfied: pyparsing>=2.3.1 in c:\\users\\prern\\miniconda3\\lib\\site-packages (from matplotlib~=3.0->gradio==4.19.2) (3.2.0)\n",
      "Requirement already satisfied: python-dateutil>=2.7 in c:\\users\\prern\\miniconda3\\lib\\site-packages (from matplotlib~=3.0->gradio==4.19.2) (2.9.0)\n",
      "Requirement already satisfied: pytz>=2020.1 in c:\\users\\prern\\miniconda3\\lib\\site-packages (from pandas<3.0,>=1.0->gradio==4.19.2) (2024.2)\n",
      "Requirement already satisfied: tzdata>=2022.7 in c:\\users\\prern\\miniconda3\\lib\\site-packages (from pandas<3.0,>=1.0->gradio==4.19.2) (2024.2)\n",
      "Requirement already satisfied: annotated-types>=0.6.0 in c:\\users\\prern\\miniconda3\\lib\\site-packages (from pydantic>=2.0->gradio==4.19.2) (0.7.0)\n",
      "Requirement already satisfied: pydantic-core==2.23.4 in c:\\users\\prern\\miniconda3\\lib\\site-packages (from pydantic>=2.0->gradio==4.19.2) (2.23.4)\n",
      "Requirement already satisfied: click>=8.0.0 in c:\\users\\prern\\miniconda3\\lib\\site-packages (from typer[all]<1.0,>=0.9->gradio==4.19.2) (8.1.7)\n",
      "Requirement already satisfied: shellingham>=1.3.0 in c:\\users\\prern\\miniconda3\\lib\\site-packages (from typer[all]<1.0,>=0.9->gradio==4.19.2) (1.5.4)\n",
      "Requirement already satisfied: rich>=10.11.0 in c:\\users\\prern\\miniconda3\\lib\\site-packages (from typer[all]<1.0,>=0.9->gradio==4.19.2) (13.9.4)\n",
      "Requirement already satisfied: starlette<0.42.0,>=0.40.0 in c:\\users\\prern\\miniconda3\\lib\\site-packages (from fastapi->gradio==4.19.2) (0.41.2)\n",
      "Requirement already satisfied: colorama in c:\\pythonpackages (from click>=8.0.0->typer[all]<1.0,>=0.9->gradio==4.19.2) (0.4.6)\n",
      "Requirement already satisfied: attrs>=22.2.0 in c:\\users\\prern\\miniconda3\\lib\\site-packages (from jsonschema>=3.0->altair<6.0,>=4.2.0->gradio==4.19.2) (24.2.0)\n",
      "Requirement already satisfied: jsonschema-specifications>=2023.03.6 in c:\\users\\prern\\miniconda3\\lib\\site-packages (from jsonschema>=3.0->altair<6.0,>=4.2.0->gradio==4.19.2) (2024.10.1)\n",
      "Requirement already satisfied: referencing>=0.28.4 in c:\\users\\prern\\miniconda3\\lib\\site-packages (from jsonschema>=3.0->altair<6.0,>=4.2.0->gradio==4.19.2) (0.35.1)\n",
      "Requirement already satisfied: rpds-py>=0.7.1 in c:\\users\\prern\\miniconda3\\lib\\site-packages (from jsonschema>=3.0->altair<6.0,>=4.2.0->gradio==4.19.2) (0.20.1)\n",
      "Requirement already satisfied: six>=1.5 in c:\\users\\prern\\miniconda3\\lib\\site-packages (from python-dateutil>=2.7->matplotlib~=3.0->gradio==4.19.2) (1.16.0)\n",
      "Requirement already satisfied: markdown-it-py>=2.2.0 in c:\\users\\prern\\miniconda3\\lib\\site-packages (from rich>=10.11.0->typer[all]<1.0,>=0.9->gradio==4.19.2) (3.0.0)\n",
      "Requirement already satisfied: pygments<3.0.0,>=2.13.0 in c:\\users\\prern\\miniconda3\\lib\\site-packages (from rich>=10.11.0->typer[all]<1.0,>=0.9->gradio==4.19.2) (2.18.0)\n",
      "Requirement already satisfied: charset-normalizer<4,>=2 in c:\\pythonpackages (from requests->huggingface-hub>=0.19.3->gradio==4.19.2) (3.4.0)\n",
      "Requirement already satisfied: urllib3<3,>=1.21.1 in c:\\pythonpackages (from requests->huggingface-hub>=0.19.3->gradio==4.19.2) (2.2.3)\n",
      "Requirement already satisfied: mdurl~=0.1 in c:\\users\\prern\\miniconda3\\lib\\site-packages (from markdown-it-py>=2.2.0->rich>=10.11.0->typer[all]<1.0,>=0.9->gradio==4.19.2) (0.1.2)\n"
     ]
    },
    {
     "name": "stderr",
     "output_type": "stream",
     "text": [
      "WARNING: typer 0.12.5 does not provide the extra 'all'\n"
     ]
    },
    {
     "name": "stdout",
     "output_type": "stream",
     "text": [
      "Requirement already satisfied: google-generativeai==0.3.2 in c:\\users\\prern\\miniconda3\\lib\\site-packages (0.3.2)\n",
      "Requirement already satisfied: google-ai-generativelanguage==0.4.0 in c:\\users\\prern\\miniconda3\\lib\\site-packages (from google-generativeai==0.3.2) (0.4.0)\n",
      "Requirement already satisfied: google-auth in c:\\users\\prern\\miniconda3\\lib\\site-packages (from google-generativeai==0.3.2) (2.35.0)\n",
      "Requirement already satisfied: google-api-core in c:\\users\\prern\\miniconda3\\lib\\site-packages (from google-generativeai==0.3.2) (2.22.0)\n",
      "Requirement already satisfied: typing-extensions in c:\\pythonpackages (from google-generativeai==0.3.2) (4.12.2)\n",
      "Requirement already satisfied: protobuf in c:\\users\\prern\\miniconda3\\lib\\site-packages (from google-generativeai==0.3.2) (4.25.5)\n",
      "Requirement already satisfied: tqdm in c:\\pythonpackages (from google-generativeai==0.3.2) (4.66.6)\n",
      "Requirement already satisfied: proto-plus<2.0.0dev,>=1.22.3 in c:\\users\\prern\\miniconda3\\lib\\site-packages (from google-ai-generativelanguage==0.4.0->google-generativeai==0.3.2) (1.25.0)\n",
      "Requirement already satisfied: googleapis-common-protos<2.0.dev0,>=1.56.2 in c:\\users\\prern\\miniconda3\\lib\\site-packages (from google-api-core->google-generativeai==0.3.2) (1.65.0)\n",
      "Requirement already satisfied: requests<3.0.0.dev0,>=2.18.0 in c:\\pythonpackages (from google-api-core->google-generativeai==0.3.2) (2.32.3)\n",
      "Requirement already satisfied: cachetools<6.0,>=2.0.0 in c:\\users\\prern\\miniconda3\\lib\\site-packages (from google-auth->google-generativeai==0.3.2) (5.5.0)\n",
      "Requirement already satisfied: pyasn1-modules>=0.2.1 in c:\\users\\prern\\miniconda3\\lib\\site-packages (from google-auth->google-generativeai==0.3.2) (0.4.1)\n",
      "Requirement already satisfied: rsa<5,>=3.1.4 in c:\\users\\prern\\miniconda3\\lib\\site-packages (from google-auth->google-generativeai==0.3.2) (4.9)\n",
      "Requirement already satisfied: colorama in c:\\pythonpackages (from tqdm->google-generativeai==0.3.2) (0.4.6)\n",
      "Requirement already satisfied: grpcio<2.0dev,>=1.33.2 in c:\\users\\prern\\miniconda3\\lib\\site-packages (from google-api-core->google-generativeai==0.3.2) (1.67.1)\n",
      "Requirement already satisfied: grpcio-status<2.0.dev0,>=1.33.2 in c:\\users\\prern\\miniconda3\\lib\\site-packages (from google-api-core->google-generativeai==0.3.2) (1.62.3)\n",
      "Requirement already satisfied: pyasn1<0.7.0,>=0.4.6 in c:\\users\\prern\\miniconda3\\lib\\site-packages (from pyasn1-modules>=0.2.1->google-auth->google-generativeai==0.3.2) (0.6.1)\n",
      "Requirement already satisfied: charset-normalizer<4,>=2 in c:\\pythonpackages (from requests<3.0.0.dev0,>=2.18.0->google-api-core->google-generativeai==0.3.2) (3.4.0)\n",
      "Requirement already satisfied: idna<4,>=2.5 in c:\\pythonpackages (from requests<3.0.0.dev0,>=2.18.0->google-api-core->google-generativeai==0.3.2) (3.10)\n",
      "Requirement already satisfied: urllib3<3,>=1.21.1 in c:\\pythonpackages (from requests<3.0.0.dev0,>=2.18.0->google-api-core->google-generativeai==0.3.2) (2.2.3)\n",
      "Requirement already satisfied: certifi>=2017.4.17 in c:\\pythonpackages (from requests<3.0.0.dev0,>=2.18.0->google-api-core->google-generativeai==0.3.2) (2024.8.30)\n",
      "Requirement already satisfied: gTTS==2.5.1 in c:\\users\\prern\\miniconda3\\lib\\site-packages (2.5.1)\n",
      "Requirement already satisfied: requests<3,>=2.27 in c:\\pythonpackages (from gTTS==2.5.1) (2.32.3)\n",
      "Requirement already satisfied: click<8.2,>=7.1 in c:\\users\\prern\\miniconda3\\lib\\site-packages (from gTTS==2.5.1) (8.1.7)\n",
      "Requirement already satisfied: colorama in c:\\pythonpackages (from click<8.2,>=7.1->gTTS==2.5.1) (0.4.6)\n",
      "Requirement already satisfied: charset-normalizer<4,>=2 in c:\\pythonpackages (from requests<3,>=2.27->gTTS==2.5.1) (3.4.0)\n",
      "Requirement already satisfied: idna<4,>=2.5 in c:\\pythonpackages (from requests<3,>=2.27->gTTS==2.5.1) (3.10)\n",
      "Requirement already satisfied: urllib3<3,>=1.21.1 in c:\\pythonpackages (from requests<3,>=2.27->gTTS==2.5.1) (2.2.3)\n",
      "Requirement already satisfied: certifi>=2017.4.17 in c:\\pythonpackages (from requests<3,>=2.27->gTTS==2.5.1) (2024.8.30)\n",
      "Requirement already satisfied: sounddevice==0.4.6 in c:\\users\\prern\\miniconda3\\lib\\site-packages (0.4.6)\n",
      "Requirement already satisfied: CFFI>=1.0 in c:\\users\\prern\\miniconda3\\lib\\site-packages (from sounddevice==0.4.6) (1.15.1)\n",
      "Requirement already satisfied: pycparser in c:\\users\\prern\\miniconda3\\lib\\site-packages (from CFFI>=1.0->sounddevice==0.4.6) (2.21)\n",
      "Requirement already satisfied: scipy==1.12.0 in c:\\users\\prern\\miniconda3\\lib\\site-packages (1.12.0)\n",
      "Requirement already satisfied: numpy<1.29.0,>=1.22.4 in c:\\users\\prern\\miniconda3\\lib\\site-packages (from scipy==1.12.0) (1.26.4)\n",
      "Requirement already satisfied: SpeechRecognition==3.10.1 in c:\\users\\prern\\miniconda3\\lib\\site-packages (3.10.1)\n",
      "Requirement already satisfied: requests>=2.26.0 in c:\\pythonpackages (from SpeechRecognition==3.10.1) (2.32.3)\n",
      "Requirement already satisfied: typing-extensions in c:\\pythonpackages (from SpeechRecognition==3.10.1) (4.12.2)\n",
      "Requirement already satisfied: charset-normalizer<4,>=2 in c:\\pythonpackages (from requests>=2.26.0->SpeechRecognition==3.10.1) (3.4.0)\n",
      "Requirement already satisfied: idna<4,>=2.5 in c:\\pythonpackages (from requests>=2.26.0->SpeechRecognition==3.10.1) (3.10)\n",
      "Requirement already satisfied: urllib3<3,>=1.21.1 in c:\\pythonpackages (from requests>=2.26.0->SpeechRecognition==3.10.1) (2.2.3)\n",
      "Requirement already satisfied: certifi>=2017.4.17 in c:\\pythonpackages (from requests>=2.26.0->SpeechRecognition==3.10.1) (2024.8.30)\n",
      "Requirement already satisfied: numpy==1.26.4 in c:\\users\\prern\\miniconda3\\lib\\site-packages (1.26.4)\n",
      "Requirement already satisfied: watchdog==4.0.0 in c:\\users\\prern\\miniconda3\\lib\\site-packages (4.0.0)\n"
     ]
    }
   ],
   "source": [
    "!pip install gradio==4.19.2\n",
    "!pip install google-generativeai==0.3.2\n",
    "!pip install gTTS==2.5.1\n",
    "!pip install sounddevice==0.4.6\n",
    "!pip install scipy==1.12.0\n",
    "!pip install SpeechRecognition==3.10.1\n",
    "!pip install numpy==1.26.4\n",
    "!pip install watchdog==4.0.0"
   ]
  },
  {
   "cell_type": "code",
   "execution_count": 8,
   "metadata": {},
   "outputs": [
    {
     "name": "stdout",
     "output_type": "stream",
     "text": [
      "Note: you may need to restart the kernel to use updated packages.\n"
     ]
    },
    {
     "name": "stderr",
     "output_type": "stream",
     "text": [
      "ERROR: Could not find a version that satisfies the requirement google-generative-ai (from versions: none)\n",
      "ERROR: No matching distribution found for google-generative-ai\n"
     ]
    }
   ],
   "source": [
    "pip install google-generative-ai"
   ]
  },
  {
   "cell_type": "code",
   "execution_count": null,
   "metadata": {
    "colab": {
     "base_uri": "https://localhost:8080/",
     "height": 1000
    },
    "id": "6fIOWJeApBZ_",
    "outputId": "87c06c84-1f8f-4bdf-9cdb-d8672815a769"
   },
   "outputs": [
    {
     "name": "stdout",
     "output_type": "stream",
     "text": [
      "* Running on local URL:  http://127.0.0.1:7860\n",
      "* Running on public URL: https://94a576cb5c389915d4.gradio.live\n",
      "\n",
      "This share link expires in 72 hours. For free permanent hosting and GPU upgrades, run `gradio deploy` from the terminal in the working directory to deploy to Hugging Face Spaces (https://huggingface.co/spaces)\n"
     ]
    },
    {
     "data": {
      "text/html": [
       "<div><iframe src=\"https://94a576cb5c389915d4.gradio.live\" width=\"100%\" height=\"500\" allow=\"autoplay; camera; microphone; clipboard-read; clipboard-write;\" frameborder=\"0\" allowfullscreen></iframe></div>"
      ],
      "text/plain": [
       "<IPython.core.display.HTML object>"
      ]
     },
     "metadata": {},
     "output_type": "display_data"
    }
   ],
   "source": [
    "import gradio as gr\n",
    "import google.generativeai as genai\n",
    "from gtts import gTTS\n",
    "import os\n",
    "import numpy as np\n",
    "import tempfile\n",
    "import speech_recognition as sr\n",
    "from scipy.io import wavfile\n",
    "import io\n",
    "import pyaudio\n",
    "import wave\n",
    "import time\n",
    "from pydantic import BaseModel\n",
    "from typing import Optional, List\n",
    "from starlette.requests import Request\n",
    "\n",
    "class Message(BaseModel):\n",
    "    role: str\n",
    "    content: str\n",
    "\n",
    "    class Config:\n",
    "        arbitrary_types_allowed = True\n",
    "\n",
    "class VoiceAssistantConfig(BaseModel):\n",
    "    request: Optional[Request] = None\n",
    "    api_key: Optional[str] = None\n",
    "    messages: List[Message] = []\n",
    "\n",
    "    class Config:\n",
    "        arbitrary_types_allowed = True\n",
    "\n",
    "class VoiceAssistant:\n",
    "    def __init__(self):\n",
    "        self.model = None\n",
    "        self.config = VoiceAssistantConfig()\n",
    "        self.chunk = 1024\n",
    "        self.format = pyaudio.paInt16\n",
    "        self.channels = 1\n",
    "        self.rate = 44100\n",
    "        self.record_seconds = 5\n",
    "\n",
    "    def configure_gemini(self, api_key: str) -> str:\n",
    "        \"\"\"Configure Gemini AI with the provided API key\"\"\"\n",
    "        try:\n",
    "            genai.configure(api_key=api_key)\n",
    "            self.model = genai.GenerativeModel('gemini-pro')\n",
    "            self.config.api_key = api_key\n",
    "            return \"API key configured successfully!\"\n",
    "        except Exception as e:\n",
    "            return f\"Error configuring API: {str(e)}\"\n",
    "\n",
    "    def record_audio(self) -> str:\n",
    "        \"\"\"Record audio using PyAudio\"\"\"\n",
    "        p = pyaudio.PyAudio()\n",
    "\n",
    "        stream = p.open(format=self.format,\n",
    "                       channels=self.channels,\n",
    "                       rate=self.rate,\n",
    "                       input=True,\n",
    "                       frames_per_buffer=self.chunk)\n",
    "\n",
    "        frames = []\n",
    "\n",
    "        for i in range(0, int(self.rate / self.chunk * self.record_seconds)):\n",
    "            data = stream.read(self.chunk)\n",
    "            frames.append(data)\n",
    "\n",
    "        stream.stop_stream()\n",
    "        stream.close()\n",
    "        p.terminate()\n",
    "\n",
    "        # Save audio to temporary file\n",
    "        with tempfile.NamedTemporaryFile(delete=False, suffix='.wav') as temp_audio:\n",
    "            wf = wave.open(temp_audio.name, 'wb')\n",
    "            wf.setnchannels(self.channels)\n",
    "            wf.setsampwidth(p.get_sample_size(self.format))\n",
    "            wf.setframerate(self.rate)\n",
    "            wf.writeframes(b''.join(frames))\n",
    "            wf.close()\n",
    "            return temp_audio.name\n",
    "\n",
    "    def transcribe_audio(self, audio_path: str) -> str:\n",
    "        \"\"\"Transcribe audio using Google Speech Recognition\"\"\"\n",
    "        try:\n",
    "            recognizer = sr.Recognizer()\n",
    "            with sr.AudioFile(audio_path) as source:\n",
    "                audio = recognizer.record(source)\n",
    "                text = recognizer.recognize_google(audio)\n",
    "                return text\n",
    "        except Exception as e:\n",
    "            return f\"Error in transcription: {str(e)}\"\n",
    "\n",
    "    def text_to_speech(self, text: str) -> str:\n",
    "        \"\"\"Convert text to speech using gTTS\"\"\"\n",
    "        try:\n",
    "            tts = gTTS(text=text, lang='en')\n",
    "            with tempfile.NamedTemporaryFile(delete=False, suffix='.mp3') as temp_audio:\n",
    "                tts.write_to_fp(temp_audio)\n",
    "                return temp_audio.name\n",
    "        except Exception as e:\n",
    "            return f\"Error in text-to-speech conversion: {str(e)}\"\n",
    "\n",
    "    def process_audio(self, audio_path: Optional[str], api_key: str) -> tuple:\n",
    "        \"\"\"Process audio input and generate response\"\"\"\n",
    "        if not self.model:\n",
    "            result = self.configure_gemini(api_key)\n",
    "            if \"Error\" in result:\n",
    "                return None, None, result\n",
    "\n",
    "        try:\n",
    "            # If audio_path is None (record new), else use uploaded file\n",
    "            if audio_path is None:\n",
    "                audio_path = self.record_audio()\n",
    "\n",
    "            # Transcribe audio\n",
    "            transcribed_text = self.transcribe_audio(audio_path)\n",
    "            if isinstance(transcribed_text, str) and transcribed_text.startswith(\"Error\"):\n",
    "                return None, None, transcribed_text\n",
    "\n",
    "            # Get response from Gemini\n",
    "            response = self.model.generate_content(transcribed_text)\n",
    "            response_text = response.text.replace('*', '')  # Remove asterisks from response\n",
    "\n",
    "            # Convert response to speech\n",
    "            response_audio = self.text_to_speech(response_text)\n",
    "\n",
    "            # Update chat history with proper Message models\n",
    "            self.config.messages.append(Message(role=\"user\", content=transcribed_text))\n",
    "            self.config.messages.append(Message(role=\"assistant\", content=response_text))\n",
    "\n",
    "            # Format chat history\n",
    "            chat_history = \"\\n\".join([\n",
    "                f\"{'You' if msg.role == 'user' else 'Assistant'}: {msg.content}\"\n",
    "                for msg in self.config.messages\n",
    "            ])\n",
    "\n",
    "            return response_audio, chat_history, None\n",
    "\n",
    "        except Exception as e:\n",
    "            return None, None, f\"Error generating response: {str(e)}\"\n",
    "        finally:\n",
    "            # Cleanup temporary files\n",
    "            if audio_path and os.path.exists(audio_path):\n",
    "                try:\n",
    "                    os.unlink(audio_path)\n",
    "                except:\n",
    "                    pass\n",
    "\n",
    "    def clear_history(self) -> tuple:\n",
    "        \"\"\"Clear chat history\"\"\"\n",
    "        self.config.messages = []\n",
    "        return None, \"Chat history cleared!\"\n",
    "\n",
    "def create_voice_assistant_interface() -> gr.Blocks:\n",
    "    \"\"\"Create Gradio interface for voice assistant\"\"\"\n",
    "    assistant = VoiceAssistant()\n",
    "\n",
    "    with gr.Blocks(theme=gr.themes.Soft()) as interface:\n",
    "        gr.Markdown(\"# LumiGem: 🎤 Voice AI Assistant\")\n",
    "\n",
    "        with gr.Row():\n",
    "            with gr.Column(scale=1):\n",
    "                api_key_input = gr.Textbox(\n",
    "                    label=\"Gemini API Key\",\n",
    "                    type=\"password\",\n",
    "                    placeholder=\"Enter your API key here...\"\n",
    "                )\n",
    "\n",
    "                with gr.Row():\n",
    "                    record_btn = gr.Button(\"🎤 Record (5s)\")\n",
    "                    upload_btn = gr.File(label=\"Upload Audio\")\n",
    "\n",
    "                clear_btn = gr.Button(\"Clear Chat History\")\n",
    "\n",
    "            with gr.Column(scale=2):\n",
    "                chat_output = gr.Textbox(\n",
    "                    label=\"Chat History\",\n",
    "                    lines=10,\n",
    "                    interactive=False\n",
    "                )\n",
    "\n",
    "                audio_output = gr.Audio(\n",
    "                    label=\"AI Response\",\n",
    "                    type=\"filepath\"\n",
    "                )\n",
    "\n",
    "                error_output = gr.Textbox(\n",
    "                    label=\"Status/Error Messages\",\n",
    "                    visible=True\n",
    "                )\n",
    "\n",
    "        # Handle record button\n",
    "        record_btn.click(\n",
    "            fn=lambda x: assistant.process_audio(None, x),\n",
    "            inputs=[api_key_input],\n",
    "            outputs=[audio_output, chat_output, error_output]\n",
    "        )\n",
    "\n",
    "        # Handle file upload\n",
    "        upload_btn.upload(\n",
    "            fn=assistant.process_audio,\n",
    "            inputs=[upload_btn, api_key_input],\n",
    "            outputs=[audio_output, chat_output, error_output]\n",
    "        )\n",
    "\n",
    "        # Handle clear history\n",
    "        clear_btn.click(\n",
    "            fn=assistant.clear_history,\n",
    "            inputs=[],\n",
    "            outputs=[audio_output, chat_output]\n",
    "        )\n",
    "\n",
    "        # Configure API key\n",
    "        api_key_input.change(\n",
    "            fn=assistant.configure_gemini,\n",
    "            inputs=[api_key_input],\n",
    "            outputs=[error_output]\n",
    "        )\n",
    "\n",
    "    return interface\n",
    "\n",
    "if __name__ == \"__main__\":\n",
    "    # Create and launch the interface\n",
    "    demo = create_voice_assistant_interface()\n",
    "    demo.launch(share=True, debug=True)"
   ]
  },
  {
   "cell_type": "code",
   "execution_count": null,
   "metadata": {},
   "outputs": [],
   "source": [
    "\n"
   ]
  }
 ],
 "metadata": {
  "colab": {
   "provenance": []
  },
  "kernelspec": {
   "display_name": "base",
   "language": "python",
   "name": "python3"
  },
  "language_info": {
   "codemirror_mode": {
    "name": "ipython",
    "version": 3
   },
   "file_extension": ".py",
   "mimetype": "text/x-python",
   "name": "python",
   "nbconvert_exporter": "python",
   "pygments_lexer": "ipython3",
   "version": "3.11.5"
  }
 },
 "nbformat": 4,
 "nbformat_minor": 0
}
